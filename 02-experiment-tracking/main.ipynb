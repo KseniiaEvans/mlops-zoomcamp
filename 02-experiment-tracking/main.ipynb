{
 "cells": [
  {
   "cell_type": "markdown",
   "id": "572ae58e",
   "metadata": {},
   "source": [
    "## Import libs"
   ]
  },
  {
   "cell_type": "code",
   "execution_count": 20,
   "id": "0e33eec6",
   "metadata": {
    "ExecuteTime": {
     "end_time": "2024-05-29T14:43:14.446603Z",
     "start_time": "2024-05-29T14:42:56.259928Z"
    }
   },
   "outputs": [],
   "source": [
    "import pandas as pd\n",
    "import numpy as np\n",
    "import os \n",
    "\n",
    "import seaborn as sns\n",
    "import matplotlib.pyplot as plt\n",
    "\n",
    "import pickle\n",
    "\n",
    "from sklearn.ensemble import RandomForestRegressor\n",
    "from sklearn.metrics import mean_squared_error"
   ]
  },
  {
   "cell_type": "code",
   "execution_count": 21,
   "id": "5f20dc84",
   "metadata": {},
   "outputs": [
    {
     "name": "stderr",
     "output_type": "stream",
     "text": [
      "2024/05/31 14:17:25 INFO mlflow.tracking.fluent: Experiment with name 'random-forest-hyperopt' does not exist. Creating a new experiment.\n"
     ]
    },
    {
     "data": {
      "text/plain": [
       "<Experiment: artifact_location='mlflow-artifacts:/2', creation_time=1717154245546, experiment_id='2', last_update_time=1717154245546, lifecycle_stage='active', name='random-forest-hyperopt', tags={}>"
      ]
     },
     "execution_count": 21,
     "metadata": {},
     "output_type": "execute_result"
    }
   ],
   "source": [
    "import mlflow\n",
    "\n",
    "\n",
    "mlflow.set_tracking_uri(\"http://127.0.0.1:5000\")\n",
    "mlflow.set_experiment(\"random-forest-hyperopt\")"
   ]
  },
  {
   "cell_type": "markdown",
   "id": "e8c1180a",
   "metadata": {},
   "source": [
    "## Download data"
   ]
  },
  {
   "cell_type": "code",
   "execution_count": null,
   "id": "121aa72d",
   "metadata": {},
   "outputs": [],
   "source": [
    "!python3 preprocess_data.py --raw_data_path \"./data\" --dest_path \"./output\""
   ]
  },
  {
   "cell_type": "markdown",
   "id": "f3af704e",
   "metadata": {},
   "source": [
    "## Q1. Install MLflow\n",
    "\n",
    "### What's the version that you have?\n",
    "2.13.0"
   ]
  },
  {
   "cell_type": "code",
   "execution_count": 3,
   "id": "aaca66ff",
   "metadata": {},
   "outputs": [
    {
     "name": "stdout",
     "output_type": "stream",
     "text": [
      "mlflow, version 2.13.0\n"
     ]
    }
   ],
   "source": [
    "!mlflow --version"
   ]
  },
  {
   "cell_type": "markdown",
   "id": "83d992f2",
   "metadata": {},
   "source": [
    "## Q2. Download and preprocess the data\n",
    "\n",
    "### How many files were saved to OUTPUT_FOLDER?\n",
    "4"
   ]
  },
  {
   "cell_type": "code",
   "execution_count": 5,
   "id": "618de907",
   "metadata": {},
   "outputs": [],
   "source": [
    "!python preprocess_data.py --raw_data_path \"./data\" --dest_path \"./output\""
   ]
  },
  {
   "cell_type": "code",
   "execution_count": 7,
   "id": "0b6739c6",
   "metadata": {},
   "outputs": [
    {
     "name": "stdout",
     "output_type": "stream",
     "text": [
      "dv.pkl    test.pkl  train.pkl val.pkl\n"
     ]
    }
   ],
   "source": [
    "!ls \"./output\""
   ]
  },
  {
   "cell_type": "markdown",
   "id": "b0854ea9",
   "metadata": {},
   "source": [
    "## Q3. Train a model with autolog\n",
    "\n",
    "What is the value of the min_samples_split parameter:\n",
    "\n",
    "    2\n"
   ]
  },
  {
   "cell_type": "code",
   "execution_count": 8,
   "id": "6039aa86",
   "metadata": {},
   "outputs": [],
   "source": [
    "def load_pickle(filename: str):\n",
    "    with open(filename, \"rb\") as f_in:\n",
    "        return pickle.load(f_in)"
   ]
  },
  {
   "cell_type": "code",
   "execution_count": 18,
   "id": "84636c60",
   "metadata": {},
   "outputs": [],
   "source": [
    "def run_train(data_path: str):\n",
    "    mlflow.sklearn.autolog()\n",
    "    \n",
    "    X_train, y_train = load_pickle(os.path.join(data_path, \"train.pkl\"))\n",
    "    X_val, y_val = load_pickle(os.path.join(data_path, \"val.pkl\"))\n",
    "    \n",
    "    with mlflow.start_run():\n",
    "        rf = RandomForestRegressor(max_depth=10, random_state=0)\n",
    "        rf.fit(X_train, y_train)\n",
    "        y_pred = rf.predict(X_val)\n",
    "\n",
    "        with open('models/rand_forest.bin', 'wb') as f_out:\n",
    "            pickle.dump(rf, f_out)\n",
    "        \n",
    "        mlflow.log_artifact(local_path=\"models/rand_forest.bin\", artifact_path=\"models_pickle\")\n",
    "\n",
    "        rmse = mean_squared_error(y_val, y_pred, squared=False)\n"
   ]
  },
  {
   "cell_type": "code",
   "execution_count": 19,
   "id": "7e96fea9",
   "metadata": {},
   "outputs": [
    {
     "name": "stderr",
     "output_type": "stream",
     "text": [
      "2024/05/31 14:10:37 WARNING mlflow.sklearn: Failed to log training dataset information to MLflow Tracking. Reason: 'numpy.ndarray' object has no attribute 'toarray'\n"
     ]
    }
   ],
   "source": [
    "run_train('./output')"
   ]
  },
  {
   "cell_type": "markdown",
   "id": "6b21a37e",
   "metadata": {},
   "source": [
    "## Question 5. Tune model hyperparameters"
   ]
  },
  {
   "cell_type": "code",
   "execution_count": 22,
   "id": "ec49770a",
   "metadata": {},
   "outputs": [
    {
     "name": "stdout",
     "output_type": "stream",
     "text": [
      "100%|██████████| 15/15 [01:46<00:00,  7.08s/trial, best loss: 5.335419588556921]\n"
     ]
    }
   ],
   "source": [
    "!python3 hpo.py"
   ]
  },
  {
   "cell_type": "markdown",
   "id": "8319eb2a",
   "metadata": {},
   "source": [
    "best loss: 5.335419588556921"
   ]
  },
  {
   "cell_type": "markdown",
   "id": "c0ab03d6",
   "metadata": {},
   "source": [
    "## Question 6."
   ]
  },
  {
   "cell_type": "code",
   "execution_count": 36,
   "id": "aa5fefc5",
   "metadata": {},
   "outputs": [
    {
     "name": "stdout",
     "output_type": "stream",
     "text": [
      "2024/05/31 14:42:49 INFO mlflow.tracking.fluent: Experiment with name 'random-forest-best-models' does not exist. Creating a new experiment.\n",
      "2024/05/31 14:42:51 WARNING mlflow.sklearn: Failed to log training dataset information to MLflow Tracking. Reason: 'numpy.ndarray' object has no attribute 'toarray'\n",
      "2024/05/31 14:43:19 WARNING mlflow.sklearn: Failed to log training dataset information to MLflow Tracking. Reason: 'numpy.ndarray' object has no attribute 'toarray'\n",
      "2024/05/31 14:43:54 WARNING mlflow.sklearn: Failed to log training dataset information to MLflow Tracking. Reason: 'numpy.ndarray' object has no attribute 'toarray'\n",
      "2024/05/31 14:44:23 WARNING mlflow.sklearn: Failed to log training dataset information to MLflow Tracking. Reason: 'numpy.ndarray' object has no attribute 'toarray'\n",
      "2024/05/31 14:44:54 WARNING mlflow.sklearn: Failed to log training dataset information to MLflow Tracking. Reason: 'numpy.ndarray' object has no attribute 'toarray'\n",
      "Successfully registered model 'random-forest-regressor'.\n",
      "2024/05/31 14:45:23 INFO mlflow.store.model_registry.abstract_store: Waiting up to 300 seconds for model version to finish creation. Model name: random-forest-regressor, version 1\n",
      "Created version '1' of model 'random-forest-regressor'.\n"
     ]
    }
   ],
   "source": [
    "!python3 register_model.py"
   ]
  },
  {
   "cell_type": "markdown",
   "id": "1c6ebd13",
   "metadata": {},
   "source": [
    "Best test_rmse is 5.567408012462019"
   ]
  }
 ],
 "metadata": {
  "kernelspec": {
   "display_name": "Python 3",
   "language": "python",
   "name": "python3"
  },
  "language_info": {
   "codemirror_mode": {
    "name": "ipython",
    "version": 3
   },
   "file_extension": ".py",
   "mimetype": "text/x-python",
   "name": "python",
   "nbconvert_exporter": "python",
   "pygments_lexer": "ipython3",
   "version": "3.8.4"
  },
  "toc": {
   "base_numbering": 1,
   "nav_menu": {},
   "number_sections": true,
   "sideBar": true,
   "skip_h1_title": false,
   "title_cell": "Table of Contents",
   "title_sidebar": "Contents",
   "toc_cell": false,
   "toc_position": {},
   "toc_section_display": true,
   "toc_window_display": false
  },
  "varInspector": {
   "cols": {
    "lenName": 16,
    "lenType": 16,
    "lenVar": 40
   },
   "kernels_config": {
    "python": {
     "delete_cmd_postfix": "",
     "delete_cmd_prefix": "del ",
     "library": "var_list.py",
     "varRefreshCmd": "print(var_dic_list())"
    },
    "r": {
     "delete_cmd_postfix": ") ",
     "delete_cmd_prefix": "rm(",
     "library": "var_list.r",
     "varRefreshCmd": "cat(var_dic_list()) "
    }
   },
   "types_to_exclude": [
    "module",
    "function",
    "builtin_function_or_method",
    "instance",
    "_Feature"
   ],
   "window_display": false
  }
 },
 "nbformat": 4,
 "nbformat_minor": 5
}
