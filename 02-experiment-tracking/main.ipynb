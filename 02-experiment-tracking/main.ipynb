{
 "cells": [
  {
   "cell_type": "markdown",
   "id": "e5629c72",
   "metadata": {},
   "source": [
    "## Import libs"
   ]
  },
  {
   "cell_type": "code",
   "execution_count": 1,
   "id": "bd2f68ff",
   "metadata": {
    "ExecuteTime": {
     "end_time": "2025-05-02T17:36:44.735989Z",
     "start_time": "2025-05-02T17:36:29.065568Z"
    }
   },
   "outputs": [],
   "source": [
    "import pandas as pd\n",
    "import numpy as np\n",
    "import os \n",
    "\n",
    "import seaborn as sns\n",
    "import matplotlib.pyplot as plt\n",
    "\n",
    "import pickle\n",
    "\n",
    "from sklearn.ensemble import RandomForestRegressor\n",
    "from sklearn.metrics import mean_squared_error"
   ]
  },
  {
   "cell_type": "code",
   "execution_count": 2,
   "id": "3addfe69",
   "metadata": {
    "ExecuteTime": {
     "end_time": "2025-05-02T17:40:42.238505Z",
     "start_time": "2025-05-02T17:40:39.000765Z"
    }
   },
   "outputs": [],
   "source": [
    "import mlflow\n",
    "\n",
    "mlflow.set_tracking_uri(\"http://127.0.0.1:5000\")"
   ]
  },
  {
   "cell_type": "code",
   "execution_count": 3,
   "id": "71756a28",
   "metadata": {},
   "outputs": [
    {
     "data": {
      "text/plain": [
       "<Experiment: artifact_location='mlflow-artifacts:/161295597375028244', creation_time=1746883127017, experiment_id='161295597375028244', last_update_time=1746883127017, lifecycle_stage='active', name='random-forest-hyperopt', tags={}>"
      ]
     },
     "execution_count": 3,
     "metadata": {},
     "output_type": "execute_result"
    }
   ],
   "source": [
    "mlflow.set_experiment(\"random-forest-hyperopt\")"
   ]
  },
  {
   "cell_type": "markdown",
   "id": "ba526e8d",
   "metadata": {},
   "source": [
    "## Download data"
   ]
  },
  {
   "cell_type": "code",
   "execution_count": 4,
   "id": "ac0b9a2f",
   "metadata": {},
   "outputs": [],
   "source": [
    "!python3 preprocess_data.py --raw_data_path \"./data\" --dest_path \"./output\""
   ]
  },
  {
   "cell_type": "markdown",
   "id": "496da86f",
   "metadata": {},
   "source": [
    "## Q1. Install MLflow\n",
    "\n",
    "To get started with MLflow you'll need to install the MLflow Python package.\n",
    "\n",
    "For this we recommend creating a separate Python environment, for example, you can use [conda environments](https://docs.conda.io/projects/conda/en/latest/user-guide/getting-started.html#managing-envs), and then install the package there with `pip` or `conda`.\n",
    "\n",
    "Once you installed the package, run the command `mlflow --version` and check the output.\n",
    "\n",
    "**What's the version that you have?**\n",
    "\n",
    "    ✅ 2.17.2"
   ]
  },
  {
   "cell_type": "code",
   "execution_count": 5,
   "id": "28e32526",
   "metadata": {},
   "outputs": [
    {
     "name": "stdout",
     "output_type": "stream",
     "text": [
      "mlflow, version 2.17.2\n"
     ]
    }
   ],
   "source": [
    "!mlflow --version"
   ]
  },
  {
   "cell_type": "markdown",
   "id": "e2717a69",
   "metadata": {},
   "source": [
    "## Q2. Download and preprocess the data\n",
    "\n",
    "We'll use the Green Taxi Trip Records dataset to predict the duration of each trip. \n",
    "\n",
    "Download the data for January, February and March 2023 in parquet format from [here](https://www1.nyc.gov/site/tlc/about/tlc-trip-record-data.page).\n",
    "\n",
    "Use the script `preprocess_data.py` located in the folder [`homework`](homework) to preprocess the data.\n",
    "\n",
    "The script will:\n",
    "\n",
    "* load the data from the folder `<TAXI_DATA_FOLDER>` (the folder where you have downloaded the data),\n",
    "* fit a `DictVectorizer` on the training set (January 2023 data),\n",
    "* save the preprocessed datasets and the `DictVectorizer` to disk.\n",
    "\n",
    "Your task is to download the datasets and then execute this command:\n",
    "\n",
    "```\n",
    "python preprocess_data.py --raw_data_path <TAXI_DATA_FOLDER> --dest_path ./output\n",
    "```\n",
    "\n",
    "Tip: go to `02-experiment-tracking/homework/` folder before executing the command and change the value of `<TAXI_DATA_FOLDER>` to the location where you saved the data.\n",
    "\n",
    "**How many files were saved to `OUTPUT_FOLDER`?**\n",
    "\n",
    "    ✅ 4"
   ]
  },
  {
   "cell_type": "code",
   "execution_count": 6,
   "id": "98e31c72",
   "metadata": {},
   "outputs": [],
   "source": [
    "!python preprocess_data.py --raw_data_path \"./data\" --dest_path \"./output\""
   ]
  },
  {
   "cell_type": "code",
   "execution_count": 7,
   "id": "fb3f0e25",
   "metadata": {},
   "outputs": [
    {
     "name": "stdout",
     "output_type": "stream",
     "text": [
      "total 17088\n",
      "-rw-r--r--  1 kseniialakhman  staff   128K May 10 16:58 dv.pkl\n",
      "-rw-r--r--  1 kseniialakhman  staff   2.3M May 10 16:58 test.pkl\n",
      "-rw-r--r--  1 kseniialakhman  staff   2.3M May 10 16:58 train.pkl\n",
      "-rw-r--r--  1 kseniialakhman  staff   2.1M May 10 16:58 val.pkl\n"
     ]
    }
   ],
   "source": [
    "!ls -lh ./output"
   ]
  },
  {
   "cell_type": "code",
   "execution_count": 8,
   "id": "d5dc736b",
   "metadata": {},
   "outputs": [
    {
     "name": "stdout",
     "output_type": "stream",
     "text": [
      "       4\n"
     ]
    }
   ],
   "source": [
    "!ls -1q \"./output\" | wc -l"
   ]
  },
  {
   "cell_type": "markdown",
   "id": "756d53e3",
   "metadata": {},
   "source": [
    "## Q3. Train a model with autolog\n",
    "\n",
    "We will train a `RandomForestRegressor` (from Scikit-Learn) on the taxi dataset.\n",
    "\n",
    "We have prepared the training script `train.py` for this exercise, which can be also found in the folder [`homework`](homework). \n",
    "\n",
    "The script will:\n",
    "\n",
    "* load the datasets produced by the previous step,\n",
    "* train the model on the training set,\n",
    "* calculate the RMSE score on the validation set.\n",
    "\n",
    "Your task is to modify the script to enable **autologging** with MLflow, execute the script and then launch the MLflow UI to check that the experiment run was properly tracked. \n",
    "\n",
    "Tip 1: don't forget to wrap the training code with a `with mlflow.start_run():` statement as we showed in the videos.\n",
    "\n",
    "Tip 2: don't modify the hyperparameters of the model to make sure that the training will finish quickly.\n",
    "\n",
    "**What is the value of the `min_samples_split` parameter:**\n",
    "\n",
    "    ✅ 2\n"
   ]
  },
  {
   "cell_type": "code",
   "execution_count": 9,
   "id": "36210583",
   "metadata": {},
   "outputs": [],
   "source": [
    "def load_pickle(filename: str):\n",
    "    with open(filename, \"rb\") as f_in:\n",
    "        return pickle.load(f_in)"
   ]
  },
  {
   "cell_type": "code",
   "execution_count": 13,
   "id": "c8d1867c",
   "metadata": {},
   "outputs": [],
   "source": [
    "def run_train(data_path: str):\n",
    "    mlflow.sklearn.autolog()\n",
    "    \n",
    "    X_train, y_train = load_pickle(os.path.join(data_path, \"train.pkl\"))\n",
    "    X_val, y_val = load_pickle(os.path.join(data_path, \"val.pkl\"))\n",
    "    \n",
    "    with mlflow.start_run():\n",
    "        rf = RandomForestRegressor(max_depth=10, random_state=0)\n",
    "        rf.fit(X_train, y_train)\n",
    "        y_pred = rf.predict(X_val)\n",
    "\n",
    "        with open('models/rand_forest.bin', 'wb+') as f_out:\n",
    "            pickle.dump(rf, f_out)\n",
    "        \n",
    "        mlflow.log_artifact(local_path=\"models/rand_forest.bin\", artifact_path=\"models_pickle\")\n"
   ]
  },
  {
   "cell_type": "code",
   "execution_count": 15,
   "id": "780dfb91",
   "metadata": {},
   "outputs": [
    {
     "name": "stderr",
     "output_type": "stream",
     "text": [
      "2025/05/10 17:08:19 WARNING mlflow.sklearn: Failed to log training dataset information to MLflow Tracking. Reason: 'numpy.ndarray' object has no attribute 'toarray'\n",
      "2025/05/10 17:08:51 INFO mlflow.tracking._tracking_service.client: 🏃 View run salty-grouse-296 at: http://127.0.0.1:5000/#/experiments/161295597375028244/runs/b24088df11374895bfdb772395bd8e18.\n",
      "2025/05/10 17:08:51 INFO mlflow.tracking._tracking_service.client: 🧪 View experiment at: http://127.0.0.1:5000/#/experiments/161295597375028244.\n"
     ]
    }
   ],
   "source": [
    "run_train('./output')"
   ]
  },
  {
   "cell_type": "markdown",
   "id": "b57d8d16",
   "metadata": {},
   "source": [
    "## Q4. Launch the tracking server locally\n",
    "\n",
    "Now we want to manage the entire lifecycle of our ML model. In this step, you'll need to launch a tracking server. This way we will also have access to the model registry. \n",
    "\n",
    "Your task is to:\n",
    "\n",
    "* launch the tracking server on your local machine,\n",
    "* select a SQLite db for the backend store and a folder called `artifacts` for the artifacts store.\n",
    "\n",
    "You should keep the tracking server running to work on the next two exercises that use the server.\n",
    "\n",
    "**In addition to `backend-store-uri`, what else do you need to pass to properly configure the server?**\n",
    "\n",
    "    ✅ `default-artifact-root`\n",
    "\n",
    "Command:\n",
    "\n",
    "```mlflow server --backend-store-uri sqlite:///mlflow.sqlite --default-artifact-root ./artifacts```"
   ]
  },
  {
   "cell_type": "code",
   "execution_count": 17,
   "id": "09e4c197",
   "metadata": {},
   "outputs": [
    {
     "name": "stderr",
     "output_type": "stream",
     "text": [
      "INFO  [alembic.runtime.migration] Context impl SQLiteImpl.\n",
      "INFO  [alembic.runtime.migration] Will assume non-transactional DDL.\n",
      "2025/05/10 21:08:28 INFO mlflow.tracking.fluent: Experiment with name 'random-forest-hyperopt' does not exist. Creating a new experiment.\n"
     ]
    },
    {
     "data": {
      "text/plain": [
       "<Experiment: artifact_location='/Users/kseniialakhman/projects/mlops/mlops-zoomcamp/02-experiment-tracking/mlruns/1', creation_time=1746900508290, experiment_id='1', last_update_time=1746900508290, lifecycle_stage='active', name='random-forest-hyperopt', tags={}>"
      ]
     },
     "execution_count": 17,
     "metadata": {},
     "output_type": "execute_result"
    }
   ],
   "source": [
    "mlflow.set_tracking_uri('sqlite:///mlflow.sqlite')\n",
    "mlflow.set_experiment(\"random-forest-hyperopt\")"
   ]
  },
  {
   "cell_type": "markdown",
   "id": "ced1d4dd",
   "metadata": {},
   "source": [
    "## Question 5. Tune model hyperparameters\n",
    "\n",
    "Now let's try to reduce the validation error by tuning the hyperparameters of the `RandomForestRegressor` using `hyperopt`. \n",
    "We have prepared the script `hpo.py` for this exercise. \n",
    "\n",
    "Your task is to modify the script `hpo.py` and make sure that the validation RMSE is logged to the tracking server for each run of the hyperparameter optimization (you will need to add a few lines of code to the `objective` function) and run the script without passing any parameters.\n",
    "\n",
    "After that, open UI and explore the runs from the experiment called `random-forest-hyperopt` to answer the question below.\n",
    "\n",
    "Note: Don't use autologging for this exercise.\n",
    "\n",
    "The idea is to just log the information that you need to answer the question below, including:\n",
    "\n",
    "* the list of hyperparameters that are passed to the `objective` function during the optimization,\n",
    "* the RMSE obtained on the validation set (February 2023 data).\n",
    "\n",
    "**What's the best validation RMSE that you got?**\n",
    "\n",
    "    ✅ 5.335"
   ]
  },
  {
   "cell_type": "code",
   "execution_count": 19,
   "id": "6141ac84",
   "metadata": {},
   "outputs": [
    {
     "name": "stdout",
     "output_type": "stream",
     "text": [
      "  0%|                                    | 0/15 [00:00<?, ?trial/s, best loss=?]2025/05/10 21:14:56 INFO mlflow.tracking._tracking_service.client: 🏃 View run nebulous-fish-821 at: http://127.0.0.1:5000/#/experiments/1/runs/1b3bc014a5eb42fdb76cf66b7b852215.\n",
      "\n",
      "2025/05/10 21:14:56 INFO mlflow.tracking._tracking_service.client: 🧪 View experiment at: http://127.0.0.1:5000/#/experiments/1.\n",
      "\n",
      "  7%|▋          | 1/15 [00:15<03:38, 15.62s/trial, best loss: 5.370086069268862]2025/05/10 21:14:57 INFO mlflow.tracking._tracking_service.client: 🏃 View run glamorous-lamb-183 at: http://127.0.0.1:5000/#/experiments/1/runs/5402b6fc62474c42949756865f029859.\n",
      "\n",
      "2025/05/10 21:14:57 INFO mlflow.tracking._tracking_service.client: 🧪 View experiment at: http://127.0.0.1:5000/#/experiments/1.\n",
      "\n",
      " 13%|█▍         | 2/15 [00:16<01:30,  6.96s/trial, best loss: 5.370086069268862]2025/05/10 21:14:58 INFO mlflow.tracking._tracking_service.client: 🏃 View run unique-snipe-466 at: http://127.0.0.1:5000/#/experiments/1/runs/5063e93cec1343c980359257bf76b15a.\n",
      "\n",
      "2025/05/10 21:14:58 INFO mlflow.tracking._tracking_service.client: 🧪 View experiment at: http://127.0.0.1:5000/#/experiments/1.\n",
      "\n",
      " 20%|██▏        | 3/15 [00:17<00:50,  4.21s/trial, best loss: 5.370086069268862]2025/05/10 21:15:07 INFO mlflow.tracking._tracking_service.client: 🏃 View run selective-croc-800 at: http://127.0.0.1:5000/#/experiments/1/runs/1f88546a84184bc5b52f66a0977f361a.\n",
      "\n",
      "2025/05/10 21:15:07 INFO mlflow.tracking._tracking_service.client: 🧪 View experiment at: http://127.0.0.1:5000/#/experiments/1.\n",
      "\n",
      " 27%|██▉        | 4/15 [00:26<01:07,  6.17s/trial, best loss: 5.357490752366866]2025/05/10 21:15:12 INFO mlflow.tracking._tracking_service.client: 🏃 View run languid-crane-125 at: http://127.0.0.1:5000/#/experiments/1/runs/619b9bee36d74e30b88a7af8091896ab.\n",
      "\n",
      "2025/05/10 21:15:12 INFO mlflow.tracking._tracking_service.client: 🧪 View experiment at: http://127.0.0.1:5000/#/experiments/1.\n",
      "\n",
      " 33%|███▋       | 5/15 [00:30<00:55,  5.51s/trial, best loss: 5.357490752366866]2025/05/10 21:15:27 INFO mlflow.tracking._tracking_service.client: 🏃 View run redolent-ox-526 at: http://127.0.0.1:5000/#/experiments/1/runs/22280ba56f0b4ae6ae5158162a9da436.\n",
      "\n",
      "2025/05/10 21:15:27 INFO mlflow.tracking._tracking_service.client: 🧪 View experiment at: http://127.0.0.1:5000/#/experiments/1.\n",
      "\n",
      " 40%|████▍      | 6/15 [00:45<01:18,  8.73s/trial, best loss: 5.354695072530291]2025/05/10 21:15:42 INFO mlflow.tracking._tracking_service.client: 🏃 View run lyrical-squirrel-29 at: http://127.0.0.1:5000/#/experiments/1/runs/7035810c989c41289f2d9bd6ba34993e.\n",
      "\n",
      "2025/05/10 21:15:42 INFO mlflow.tracking._tracking_service.client: 🧪 View experiment at: http://127.0.0.1:5000/#/experiments/1.\n",
      "\n",
      " 47%|█████▏     | 7/15 [01:01<01:27, 10.91s/trial, best loss: 5.354695072530291]2025/05/10 21:15:44 INFO mlflow.tracking._tracking_service.client: 🏃 View run persistent-goat-953 at: http://127.0.0.1:5000/#/experiments/1/runs/a02a3eb711ff498ea4dbc23cce94b7b1.\n",
      "\n",
      "2025/05/10 21:15:44 INFO mlflow.tracking._tracking_service.client: 🧪 View experiment at: http://127.0.0.1:5000/#/experiments/1.\n",
      "\n",
      " 53%|█████▊     | 8/15 [01:02<00:55,  7.93s/trial, best loss: 5.354695072530291]2025/05/10 21:15:53 INFO mlflow.tracking._tracking_service.client: 🏃 View run handsome-stag-201 at: http://127.0.0.1:5000/#/experiments/1/runs/743be5fe951c4e269806c6734077c8d4.\n",
      "\n",
      "2025/05/10 21:15:53 INFO mlflow.tracking._tracking_service.client: 🧪 View experiment at: http://127.0.0.1:5000/#/experiments/1.\n",
      "\n",
      " 60%|██████▌    | 9/15 [01:12<00:50,  8.34s/trial, best loss: 5.354695072530291]2025/05/10 21:16:01 INFO mlflow.tracking._tracking_service.client: 🏃 View run kindly-sponge-732 at: http://127.0.0.1:5000/#/experiments/1/runs/f948882d37284c4697760091dade7764.\n",
      "\n",
      "2025/05/10 21:16:01 INFO mlflow.tracking._tracking_service.client: 🧪 View experiment at: http://127.0.0.1:5000/#/experiments/1.\n",
      "\n",
      " 67%|██████▋   | 10/15 [01:19<00:40,  8.18s/trial, best loss: 5.354695072530291]2025/05/10 21:16:06 INFO mlflow.tracking._tracking_service.client: 🏃 View run abundant-pig-473 at: http://127.0.0.1:5000/#/experiments/1/runs/384d3875f21e4739abd9a55a13859982.\n",
      "\n",
      "2025/05/10 21:16:06 INFO mlflow.tracking._tracking_service.client: 🧪 View experiment at: http://127.0.0.1:5000/#/experiments/1.\n",
      "\n",
      " 73%|███████▎  | 11/15 [01:25<00:29,  7.36s/trial, best loss: 5.335419588556921]2025/05/10 21:16:11 INFO mlflow.tracking._tracking_service.client: 🏃 View run painted-hare-455 at: http://127.0.0.1:5000/#/experiments/1/runs/f873679fef2b4140b8dee23ff9e12b25.\n",
      "\n",
      "2025/05/10 21:16:11 INFO mlflow.tracking._tracking_service.client: 🧪 View experiment at: http://127.0.0.1:5000/#/experiments/1.\n",
      "\n",
      " 80%|████████  | 12/15 [01:29<00:19,  6.43s/trial, best loss: 5.335419588556921]2025/05/10 21:16:12 INFO mlflow.tracking._tracking_service.client: 🏃 View run able-lamb-110 at: http://127.0.0.1:5000/#/experiments/1/runs/f1afb1ba76144a7a9080b64bc64cdf40.\n",
      "\n",
      "2025/05/10 21:16:12 INFO mlflow.tracking._tracking_service.client: 🧪 View experiment at: http://127.0.0.1:5000/#/experiments/1.\n",
      "\n",
      " 87%|████████▋ | 13/15 [01:31<00:09,  4.94s/trial, best loss: 5.335419588556921]2025/05/10 21:16:17 INFO mlflow.tracking._tracking_service.client: 🏃 View run rebellious-roo-874 at: http://127.0.0.1:5000/#/experiments/1/runs/2f5d04ecc58243d998ea96dbc8d8c69b.\n",
      "\n",
      "2025/05/10 21:16:17 INFO mlflow.tracking._tracking_service.client: 🧪 View experiment at: http://127.0.0.1:5000/#/experiments/1.\n",
      "\n",
      " 93%|█████████▎| 14/15 [01:36<00:05,  5.07s/trial, best loss: 5.335419588556921]2025/05/10 21:16:26 INFO mlflow.tracking._tracking_service.client: 🏃 View run inquisitive-fowl-563 at: http://127.0.0.1:5000/#/experiments/1/runs/c9adb82c1ac94382962e873ecf307d78.\n",
      "\n",
      "2025/05/10 21:16:26 INFO mlflow.tracking._tracking_service.client: 🧪 View experiment at: http://127.0.0.1:5000/#/experiments/1.\n",
      "\n",
      "100%|██████████| 15/15 [01:44<00:00,  6.99s/trial, best loss: 5.335419588556921]\n"
     ]
    }
   ],
   "source": [
    "!python3 hpo.py"
   ]
  },
  {
   "cell_type": "markdown",
   "id": "ea7969ce",
   "metadata": {},
   "source": [
    "best loss: 5.335419588556921"
   ]
  },
  {
   "cell_type": "markdown",
   "id": "2d4fa263",
   "metadata": {},
   "source": [
    "## Question 6. Promote the best model to the model registry\n",
    "\n",
    "The results from the hyperparameter optimization are quite good. So, we can assume that we are ready to test some of these models in production. \n",
    "In this exercise, you'll promote the best model to the model registry. We have prepared a script called `register_model.py`, which will check the results from the previous step and select the top 5 runs. \n",
    "After that, it will calculate the RMSE of those models on the test set (March 2023 data) and save the results to a new experiment called `random-forest-best-models`.\n",
    "\n",
    "Your task is to update the script `register_model.py` so that it selects the model with the lowest RMSE on the test set and registers it to the model registry.\n",
    "\n",
    "Tip 1: you can use the method `search_runs` from the `MlflowClient` to get the model with the lowest RMSE,\n",
    "\n",
    "Tip 2: to register the model you can use the method `mlflow.register_model` and you will need to pass the right `model_uri` in the form of a string that looks like this: `\"runs:/<RUN_ID>/model\"`, and the name of the model (make sure to choose a good one!).\n",
    "\n",
    "What is the test RMSE of the best model?\n",
    "\n",
    "    ✅ 5.567\n",
    "    "
   ]
  },
  {
   "cell_type": "code",
   "execution_count": 35,
   "id": "584b2f4a",
   "metadata": {},
   "outputs": [
    {
     "name": "stdout",
     "output_type": "stream",
     "text": [
      "2025/05/10 21:35:21 WARNING mlflow.sklearn: Failed to log training dataset information to MLflow Tracking. Reason: 'numpy.ndarray' object has no attribute 'toarray'\n",
      "2025/05/10 21:35:46 WARNING mlflow.sklearn: Failed to log training dataset information to MLflow Tracking. Reason: 'numpy.ndarray' object has no attribute 'toarray'\n",
      "2025/05/10 21:36:21 WARNING mlflow.sklearn: Failed to log training dataset information to MLflow Tracking. Reason: 'numpy.ndarray' object has no attribute 'toarray'\n",
      "2025/05/10 21:36:46 WARNING mlflow.sklearn: Failed to log training dataset information to MLflow Tracking. Reason: 'numpy.ndarray' object has no attribute 'toarray'\n",
      "2025/05/10 21:37:16 WARNING mlflow.sklearn: Failed to log training dataset information to MLflow Tracking. Reason: 'numpy.ndarray' object has no attribute 'toarray'\n",
      "Registered model 'random-forest-regressor' already exists. Creating a new version of this model...\n",
      "Created version '2' of model 'random-forest-regressor'.\n"
     ]
    }
   ],
   "source": [
    "!python3 register_model.py"
   ]
  },
  {
   "cell_type": "markdown",
   "id": "5994f806",
   "metadata": {},
   "source": [
    "Best test_rmse is 5.567408012462019"
   ]
  }
 ],
 "metadata": {
  "kernelspec": {
   "display_name": ".venv",
   "language": "python",
   "name": "python3"
  },
  "language_info": {
   "codemirror_mode": {
    "name": "ipython",
    "version": 3
   },
   "file_extension": ".py",
   "mimetype": "text/x-python",
   "name": "python",
   "nbconvert_exporter": "python",
   "pygments_lexer": "ipython3",
   "version": "3.8.4"
  },
  "toc": {
   "base_numbering": 1,
   "nav_menu": {},
   "number_sections": true,
   "sideBar": true,
   "skip_h1_title": false,
   "title_cell": "Table of Contents",
   "title_sidebar": "Contents",
   "toc_cell": false,
   "toc_position": {},
   "toc_section_display": true,
   "toc_window_display": false
  },
  "varInspector": {
   "cols": {
    "lenName": 16,
    "lenType": 16,
    "lenVar": 40
   },
   "kernels_config": {
    "python": {
     "delete_cmd_postfix": "",
     "delete_cmd_prefix": "del ",
     "library": "var_list.py",
     "varRefreshCmd": "print(var_dic_list())"
    },
    "r": {
     "delete_cmd_postfix": ") ",
     "delete_cmd_prefix": "rm(",
     "library": "var_list.r",
     "varRefreshCmd": "cat(var_dic_list()) "
    }
   },
   "types_to_exclude": [
    "module",
    "function",
    "builtin_function_or_method",
    "instance",
    "_Feature"
   ],
   "window_display": false
  }
 },
 "nbformat": 4,
 "nbformat_minor": 5
}
